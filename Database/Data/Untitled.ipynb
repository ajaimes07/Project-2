{
 "cells": [
  {
   "cell_type": "code",
   "execution_count": null,
   "metadata": {},
   "outputs": [],
   "source": [
    "# *-* coding: utf-8 *-*\n",
    "\n",
    "import requests\n",
    "\n",
    "try:\n",
    "    from pymongo import MongoClient\n",
    "except ImportError:\n",
    "    raise ImportError('PyMongo is not installed')\n",
    "\n",
    "\n",
    "class MongoDB(object):\n",
    "    def __init__(self, host='localhost', port=27017, database_name=None, collection_name=None):\n",
    "        try:\n",
    "            self._connection = MongoClient(host=host, port=port, maxPoolSize=200)\n",
    "        except Exception as error:\n",
    "            raise Exception(error)\n",
    "        self._database = None\n",
    "        self._collection = None\n",
    "        if database_name:\n",
    "            self._database = self._connection[database_name]\n",
    "        if collection_name:\n",
    "            self._collection = self._database[collection_name]\n",
    "\n",
    "    def insert(self, post):\n",
    "        # add/append/new single record\n",
    "        post_id = self._collection.insert_one(post).inserted_id\n",
    "        return post_id"
   ]
  },
  {
   "cell_type": "code",
   "execution_count": null,
   "metadata": {},
   "outputs": [],
   "source": [
    "\n",
    "url = 'http://climatedataapi.worldbank.org/climateweb/rest/v1/country/cru/tas/year/CAN.csv'\n",
    "response = requests.get(url)\n",
    "data = response.text\n",
    "if response.status_code != 200:\n",
    "    print('Failed to get data:', response.status_code)\n",
    "else:\n",
    "    print('First 100 characters of data are')\n",
    "    print(data[:100])\n",
    "\n",
    "print('[*] Parsing response text')\n",
    "data = data.split('\\n')\n",
    "data_list = list()\n",
    "for value in data:\n",
    "    if 'year,data' not in value:\n",
    "        if value:\n",
    "            value = value.split(',')\n",
    "            data_list.append({'year': int(value[0]), 'data': float(value[1])})\n",
    "\n",
    "print(data_list)\n",
    "\n",
    "print('[*] Pushing data to MongoDB ')\n",
    "mongo_db = MongoDB(database_name='Climate_DB', collection_name='climate_data')\n",
    "\n",
    "for collection in data_list:\n",
    "    print('[!] Inserting - ', collection)\n",
    "    mongo_db.insert(collection)"
   ]
  }
 ],
 "metadata": {
  "kernelspec": {
   "display_name": "Python 3",
   "language": "python",
   "name": "python3"
  },
  "language_info": {
   "codemirror_mode": {
    "name": "ipython",
    "version": 3
   },
   "file_extension": ".py",
   "mimetype": "text/x-python",
   "name": "python",
   "nbconvert_exporter": "python",
   "pygments_lexer": "ipython3",
   "version": "3.7.3"
  }
 },
 "nbformat": 4,
 "nbformat_minor": 2
}
