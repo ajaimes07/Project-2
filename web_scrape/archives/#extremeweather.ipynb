{
 "cells": [
  {
   "cell_type": "code",
   "execution_count": 1,
   "metadata": {},
   "outputs": [],
   "source": [
    "from splinter import Browser\n",
    "from bs4 import BeautifulSoup"
   ]
  },
  {
   "cell_type": "code",
   "execution_count": 2,
   "metadata": {},
   "outputs": [],
   "source": [
    "browser = Browser('chrome', headless = False)"
   ]
  },
  {
   "cell_type": "code",
   "execution_count": 3,
   "metadata": {},
   "outputs": [],
   "source": [
    "browser.visit('https://twitter.com/hashtag/extremeweather?lang=en')"
   ]
  },
  {
   "cell_type": "code",
   "execution_count": 4,
   "metadata": {},
   "outputs": [],
   "source": [
    "soup = BeautifulSoup(browser.html, 'html.parser')"
   ]
  },
  {
   "cell_type": "code",
   "execution_count": 5,
   "metadata": {},
   "outputs": [
    {
     "data": {
      "text/plain": [
       "'\\n\\nThe \\n\\nMind\\n\\nBoggles!\\n\\n\\n#SundayMotivation #Cyclones #Weather #ExtremeWeather \\nvia @WMCActionNews5 pls followpic.twitter.com/t3tN3LYidR'"
      ]
     },
     "execution_count": 5,
     "metadata": {},
     "output_type": "execute_result"
    }
   ],
   "source": [
    "soup.find(class_='tweet-text').text"
   ]
  },
  {
   "cell_type": "code",
   "execution_count": 6,
   "metadata": {},
   "outputs": [],
   "source": [
    "tweets = soup.find_all(class_='tweet-text')"
   ]
  },
  {
   "cell_type": "code",
   "execution_count": 10,
   "metadata": {
    "scrolled": true
   },
   "outputs": [
    {
     "name": "stdout",
     "output_type": "stream",
     "text": [
      "\n",
      "\n",
      "The \n",
      "\n",
      "Mind\n",
      "\n",
      "Boggles!\n",
      "\n",
      "\n",
      "#SundayMotivation #Cyclones #Weather #ExtremeWeather \n",
      "via @WMCActionNews5 pls followpic.twitter.com/t3tN3LYidR\n",
      "WOW! enormous  #snow amounts, over 180cm of it fresh at  Dolomitenhütte, Osttirol, Austria yesterday afternoon 18th of November.... Photos by Hannes Bundschuh #severeweather #extremeweather pic.twitter.com/53GwNeVnIh\n",
      "WOW.... Severe #hailstorm in Palmview, Sunshine Coast, Australia this morning 17th November! Video Lisa Thomas #severeweather #extremeweather pic.twitter.com/9I0LE31e3A\n",
      "Large #avalanche has just happened this morning 17th November in the Italian Alps of Martello! Video by  Christian Gurschler via meteo-Alps #severeweather #extremeweather #snowfallpic.twitter.com/CVBNaFBPAe\n",
      "Severe #hailstorm on the Sunshine Coast, Queensland, Australia yesterday morning 17th November! Golf ball size hail reported... Video by Mummasjourney ig #severeweather #ExtremeWeather pic.twitter.com/WiLSTEKQks\n",
      "    \n",
      "\n",
      "Light Show over\n",
      "\n",
      "Norman, Oklahoma\n",
      "\n",
      "    \n",
      "#Lightning #Weather #Tech #Cool #ExtremeWeather  \n",
      "via @CaliaDomenico pls followpic.twitter.com/hW4OCdpE2d\n",
      "WOW... Very deep snow in Livigno Italy this morning 17th November! Photo by  Livigno is magic thanks; #severeweather #snowfall #extremeweather pic.twitter.com/JMGe7FEAr6\n",
      "Vancouver's current temperature of 2.8°C is 1.5°C below the average low of 4.3°C for this date! #extremeweather #vanweather\n",
      "MIKE MORALES ON MARFOOGLE TV TONIGHT! WE WILL BE SENDING OUT NOTIFICATION HERE SO STAY TUNED #MIKEMORALES #WEATHER #extremeweather\n",
      "Significant flooding in Venice, Italy this morning 12th November! Thanks to Kristaps. Bankis ig #severeweather #floods #extremeweather pic.twitter.com/sMDE2JQ7bS\n",
      "Extremely deep fresh snow depths at Madonna Di Campiglio, Dolomites, #Italy last night 15th November. Photos by  Wiliam Bombarda; #severeweather #ExtremeWeather #snowfallpic.twitter.com/8jxlBdbfNo\n",
      "This Sydney street stays cooler than others during a heatwave — here's why https://www.abc.net.au/news/2019-11-21/western-sydney-heatwave-alleviated-by-tree-cover/11721698 … via @ABCNews #trees #heatwaves #ExtremeWeather #ClimateActionNow @egsc\n",
      "With Vegas, it's not so much that it gets super cold. It rarely drops below 30 here...but when it's cold it can also be very windy, dry and have some nasty weather that is hard to go outside in. Then, there are the 114+ summers...this year wasn't fun!  #ExtremeWeather\n",
      "Smokey Raleigh \n",
      ".\n",
      "#headnorth #extremeweather #jptrueman @ Raleigh, New South Wales, Australia https://www.instagram.com/p/B5HCJjWBdKl/?igshid=45lg1n1t1nrt …\n",
      "So when does it become a national crisis, a #ClimateEmergency if you will where release of taxpayer funds goes to urgently addressing our water, ecosystems, emergency evacuation, housing structure & other #ExtremeWeather needs. It’s already too late for now but start something. https://twitter.com/patskarvelas/status/1197128055480733697 …\n",
      "WOW.... Severe flooding scenes from #Venice, Italy last night 12th November as high tides and storm surge affects the city. Report VeneziaOfficial ig #severeweather #extremeweather #floodspic.twitter.com/bqQS3Est1k\n",
      "WOW... snowfall yesterday morning 15th November on Mount Pueblan in Morocco. Photo by  MohamMed HamMouki thanks #severeweather #snow #ExtremeWeather pic.twitter.com/UNaTsTmyiM\n",
      "\"Philadelphia Freedom?\" \n",
      "\n",
      "There is no Saving a World Which is Bent on Destroying Itself\n",
      "https://blog.immortalartist.com/p/we-may-all-become-refugees-someday.html …\n",
      "#art #climatechange #climatechangeisreal #climateaction #ClimateChangeart #extremeweather #climatechangeaction #dystopia #Philadelphia #Pennsylvaniapic.twitter.com/IGI6V4PfD3\n",
      "Toronto's current temperature of 9.0°C is 2.5°C above the average high of 6.5°C for this date! #extremeweather #torontoweather\n",
      "Too many Australians have the, “it won’t happen to me,” attitude instead of pre-planning for #ClimateEmergency #ExtremeWeather conditions and it’s smashing down our environmental living door with a firestorm sledgehammer right now!\n"
     ]
    }
   ],
   "source": [
    "for tweet in tweets:\n",
    "    if '#extremeweather'in tweet.text.lower():\n",
    "        print(tweet.text)"
   ]
  },
  {
   "cell_type": "code",
   "execution_count": 11,
   "metadata": {},
   "outputs": [
    {
     "data": {
      "text/plain": [
       "21"
      ]
     },
     "execution_count": 11,
     "metadata": {},
     "output_type": "execute_result"
    }
   ],
   "source": [
    "len(soup.find_all(class_='tweet-text'))"
   ]
  },
  {
   "cell_type": "code",
   "execution_count": null,
   "metadata": {},
   "outputs": [],
   "source": []
  }
 ],
 "metadata": {
  "kernelspec": {
   "display_name": "Python 3",
   "language": "python",
   "name": "python3"
  },
  "language_info": {
   "codemirror_mode": {
    "name": "ipython",
    "version": 3
   },
   "file_extension": ".py",
   "mimetype": "text/x-python",
   "name": "python",
   "nbconvert_exporter": "python",
   "pygments_lexer": "ipython3",
   "version": "3.7.1"
  }
 },
 "nbformat": 4,
 "nbformat_minor": 2
}
