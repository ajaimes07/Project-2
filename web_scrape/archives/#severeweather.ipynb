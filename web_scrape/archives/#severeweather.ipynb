{
 "cells": [
  {
   "cell_type": "code",
   "execution_count": 21,
   "metadata": {},
   "outputs": [],
   "source": [
    "from splinter import Browser\n",
    "from bs4 import BeautifulSoup\n",
    "import os\n",
    "import tweepy as tw\n",
    "import pandas as pd\n",
    "consumer_key= 'kyGtgyFhcm4ayHjZFOGjNAkC4'\n",
    "consumer_secret= 'B6xXR0HFOtwgF22PorK2r8tV4cvOhtaHebm80jFzdlohlX8tXu'\n",
    "access_token= '722677591149305857-NuRtTCNJMIoHNasJ8Mjx0CWwkxune0B'\n",
    "access_token_secret= 'LbouwyqQmzeQ5YPFfnu8VIqanucGtKNZcRTL7gMtRACM9'\n",
    "auth = tw.OAuthHandler(consumer_key, consumer_secret)\n",
    "auth.set_access_token(access_token, access_token_secret)\n",
    "api = tw.API(auth, wait_on_rate_limit=True)"
   ]
  },
  {
   "cell_type": "code",
   "execution_count": 22,
   "metadata": {},
   "outputs": [],
   "source": [
    "browser = Browser('chrome', headless = False)"
   ]
  },
  {
   "cell_type": "code",
   "execution_count": 23,
   "metadata": {},
   "outputs": [],
   "source": [
    "browser.visit('https://twitter.com/hashtag/severeweather?lang=en')"
   ]
  },
  {
   "cell_type": "code",
   "execution_count": 24,
   "metadata": {},
   "outputs": [],
   "source": [
    "soup = BeautifulSoup(browser.html, 'html.parser')"
   ]
  },
  {
   "cell_type": "code",
   "execution_count": 25,
   "metadata": {},
   "outputs": [
    {
     "data": {
      "text/plain": [
       "'Beautiful view of  the snowfall in Piedmont area, Italy yesterday morning 22nd November! Report via MetFigyelo #severeweather #ExtremeWeather #snowypic.twitter.com/HuXaDtRFMH'"
      ]
     },
     "execution_count": 25,
     "metadata": {},
     "output_type": "execute_result"
    }
   ],
   "source": [
    "soup.find(class_='tweet-text').text"
   ]
  },
  {
   "cell_type": "code",
   "execution_count": 26,
   "metadata": {},
   "outputs": [],
   "source": [
    "tweets = soup.find_all(class_='tweet-text')"
   ]
  },
  {
   "cell_type": "code",
   "execution_count": 27,
   "metadata": {
    "scrolled": true
   },
   "outputs": [
    {
     "name": "stdout",
     "output_type": "stream",
     "text": [
      "Beautiful view of  the snowfall in Piedmont area, Italy yesterday morning 22nd November! Report via MetFigyelo #severeweather #ExtremeWeather #snowypic.twitter.com/HuXaDtRFMH\n",
      "WOW!!! Very deep snow accumulation in Sestriere, Turin, Italy yesterday afternoon 24th November! Report meteo reporter storm; #severeweather #extremeweather #snowfallpic.twitter.com/a2fWBqhFsA\n",
      "WOW.. Double #waterspout display off Zakros, Crete, Greece this morning 25th November! Video Weather News Greece; #severeweather #extremeweather #Tornadopic.twitter.com/NC7C6VwCnF\n",
      "WOW.... Heavy snow with significant new depths this afternoon 24th November in Vars, Huates-Alpes, France; photo via @Varsfob #severeweather #snowfall #WinterWonderlandpic.twitter.com/GM145mbaRD\n",
      "Large #avalanche has just happened this morning 17th November in the Italian Alps of Martello! Video by  Christian Gurschler via meteo-Alps #severeweather #extremeweather #snowfallpic.twitter.com/CVBNaFBPAe\n",
      "-50c BRRRRRRRRR first one of the season in Verkhoyansk, Russia this morning! #severeweather #freezinghttps://twitter.com/weathersarov1/status/1198178078037598210 …\n",
      "WOW.... Severe #hailstorm in Palmview, Sunshine Coast, Australia this morning 17th November! Video Lisa Thomas #severeweather #extremeweatherpic.twitter.com/9I0LE31e3A\n",
      "WOW!!! Enormous waves breaking on the coastline of #VillefrancheSurMer, France yesterday morning 23rd November! Report Meteo Côte Azur #severeweather #ExtremeWeatherpic.twitter.com/rPDygfLriW\n",
      "Tuesday's weather - A warm to hot day across much of SA #SevereWeather https://www.news24.com/SouthAfrica/News/tuesdays-weather-a-warm-to-hot-day-across-much-of-sa-20191125 …\n",
      "WATCH - Homes damaged after another tornado rips through KZN #SevereWeather https://www.news24.com/Video/SouthAfrica/News/watch-homes-damaged-after-another-tornado-rips-through-kzn-20191125 …\n",
      "WOW!!! Funky snow creations from Abfaltersbach, Tirol, Austria on the 18th of November.... Photos by Maria Bergmann #severeweather #snow #winterpic.twitter.com/KrPM63IAZD\n",
      "#SevereWeather  Waterspout in France. \n",
      "\n",
      "These spectacular images were recorded yesterday in #Hyères pic.twitter.com/djWKiTEDdq\n",
      "Who would like to be here??? Very heavy snowfall this evening a short time ago in #Livigno , Italy! Report via Livigno is magic; #severeweather #snowfallpic.twitter.com/iX70S8SSQo\n",
      "'They meant the world to me' - families grieve as KZN storm claims 3 #SevereWeather https://www.news24.com/SouthAfrica/News/they-meant-the-world-to-me-families-grieve-as-kzn-storm-claims-3-20191112 …\n",
      "Finally a bit of activity in the #pilbara. Anyone up that way?\n",
      "\n",
      "#storms #strongwinds #severeweather #extremeweather #Lightning #rain #hail #justanotherdayinwa #westernaustraliapic.twitter.com/UKPPvMaSnZ\n",
      "The Guardian view on the floods: global heating and British soaking - Editorial #SevereWeather https://www.theguardian.com/commentisfree/2019/nov/12/the-guardian-view-on-the-floods-global-heating-and-british-soaking …\n",
      "Rebel with a cause: the regional firefighter who joined Extinction Rebellion #SevereWeather https://www.theguardian.com/australia-news/2019/nov/23/rebel-with-a-cause-the-regional-firefighter-who-joined-extinction-rebellion …\n",
      "Hey, Citrus. Hurricane Season may be coming to an end, but #SevereWeather can happen any time. Are you prepared? https://twitter.com/FLSERT/status/1199077865683398661 …\n",
      "Severe flooding in Reggio, Calabria, Italy this morning 24th November! Report Andrea Magnani #severeweather #flood #ExtremeWeatherpic.twitter.com/Ccz5Vys4s4\n",
      "Tornado strikes Utrecht amid warning of severe thunderstorms in KZN #SevereWeather https://www.news24.com/SouthAfrica/News/tornado-strikes-utrecht-kzn-20191123 …\n"
     ]
    }
   ],
   "source": [
    "for tweet in tweets:\n",
    "    if '#severeweather'in tweet.text.lower():\n",
    "        print(tweet.text)"
   ]
  },
  {
   "cell_type": "code",
   "execution_count": 28,
   "metadata": {},
   "outputs": [
    {
     "data": {
      "text/plain": [
       "22"
      ]
     },
     "execution_count": 28,
     "metadata": {},
     "output_type": "execute_result"
    }
   ],
   "source": [
    "len(soup.find_all(class_='tweet-text'))"
   ]
  },
  {
   "cell_type": "code",
   "execution_count": 29,
   "metadata": {},
   "outputs": [],
   "source": [
    "search_words = \"#extremeweather\"\n",
    "date_since = \"2019-01-01\""
   ]
  },
  {
   "cell_type": "code",
   "execution_count": 30,
   "metadata": {},
   "outputs": [
    {
     "name": "stdout",
     "output_type": "stream",
     "text": [
      "RT @StormchaserUKEU: WOW.. Double #waterspout display off Zakros, Crete, Greece this morning 25th November! Video Weather News Greece; #sev…\n",
      "RT @StormchaserUKEU: WOW.. Double #waterspout display off Zakros, Crete, Greece this morning 25th November! Video Weather News Greece; #sev…\n",
      "RT @StormchaserUKEU: WOW!!! Very deep snow accumulation in Sestriere, Turin, Italy yesterday afternoon 24th November! Report meteo reporter…\n",
      "RT @StormchaserUKEU: WOW!!! Very deep snow accumulation in Sestriere, Turin, Italy yesterday afternoon 24th November! Report meteo reporter…\n",
      "RT @StormchaserUKEU: WOW!!! Very deep snow accumulation in Sestriere, Turin, Italy yesterday afternoon 24th November! Report meteo reporter…\n",
      "RT @StormchaserUKEU: WOW.. Double #waterspout display off Zakros, Crete, Greece this morning 25th November! Video Weather News Greece; #sev…\n",
      "RT @StormchaserUKEU: WOW.. Double #waterspout display off Zakros, Crete, Greece this morning 25th November! Video Weather News Greece; #sev…\n",
      "RT @StormchaserUKEU: WOW.. Double #waterspout display off Zakros, Crete, Greece this morning 25th November! Video Weather News Greece; #sev…\n",
      "RT @StormchaserUKEU: WOW.. Double #waterspout display off Zakros, Crete, Greece this morning 25th November! Video Weather News Greece; #sev…\n",
      "RT @StormchaserUKEU: WOW.. Double #waterspout display off Zakros, Crete, Greece this morning 25th November! Video Weather News Greece; #sev…\n"
     ]
    }
   ],
   "source": [
    "tweets = tw.Cursor(api.search, \n",
    "                  q=search_words,\n",
    "                  lang=\"en\",\n",
    "                  since=date_since).items(10)\n",
    "for tweet in tweets:\n",
    "    print(tweet.text)"
   ]
  },
  {
   "cell_type": "code",
   "execution_count": 33,
   "metadata": {},
   "outputs": [
    {
     "data": {
      "text/plain": [
       "'#extremeweather -filter:retweets'"
      ]
     },
     "execution_count": 33,
     "metadata": {},
     "output_type": "execute_result"
    }
   ],
   "source": [
    "new_search = search_words + \" -filter:retweets\"\n",
    "new_search"
   ]
  },
  {
   "cell_type": "code",
   "execution_count": 34,
   "metadata": {},
   "outputs": [
    {
     "data": {
      "text/plain": [
       "[\"Toronto's current temperature of 8.0°C is 2.5°C above the average high of 5.5°C for this date! #extremeweather #torontoweather\",\n",
       " 'ex #tropicalstorm Sebastian 🌀 will reach #france on Wednesday morning and strong #winds 🌬️ are forecasted.… https://t.co/hSk4B8ifSD',\n",
       " 'Captured this magnificent #mammatus sky in Allen Texas a few years ago after #stormchasing. \\n #jaw_dropping_shots… https://t.co/kmhURAZcBS',\n",
       " \"#ExtremeWeather #Italy version:\\nWhy is #Venice flooding? \\nConsider the region's #hydrology #watersheds &amp; #rivers\\n\\nT… https://t.co/jEQW3FjpPh\",\n",
       " '#ExtremeWeather series\\n #SanDiego #Thanksgiving version https://t.co/jfW2Henjk3']"
      ]
     },
     "execution_count": 34,
     "metadata": {},
     "output_type": "execute_result"
    }
   ],
   "source": [
    "tweets = tw.Cursor(api.search,\n",
    "                       q=new_search,\n",
    "                       lang=\"en\",\n",
    "                       since=date_since).items(5)\n",
    "\n",
    "[tweet.text for tweet in tweets]"
   ]
  },
  {
   "cell_type": "code",
   "execution_count": 36,
   "metadata": {},
   "outputs": [
    {
     "data": {
      "text/plain": [
       "[['XWeatherTO', 'Toronto, Ontario'],\n",
       " ['DaviFaranda', 'paris'],\n",
       " ['Awesome_Skies', 'Garland, TX'],\n",
       " ['LoriSaldanaSD', 'San Diego, CA'],\n",
       " ['LoriSaldanaSD', 'San Diego, CA'],\n",
       " ['PROSOCO', 'Lawrence, KS'],\n",
       " ['k2worldwide', 'Indianapolis+DC+NYC+Dallas+MCO'],\n",
       " ['oakden_wolf', 'Baltimore, Port Republic, MD'],\n",
       " ['StormchaserUKEU', '(London, U.K) / Europe/ World'],\n",
       " ['WaterAgg', ''],\n",
       " ['XWeatherVan', 'Vancouver, British Columbia'],\n",
       " ['XWeatherTO', 'Toronto, Ontario'],\n",
       " ['XtremeWeatherTT', ''],\n",
       " ['RIGreenbuilding', ''],\n",
       " ['XWeatherTO', 'Toronto, Ontario'],\n",
       " ['EthosLifestyle', 'West Coast, Canada'],\n",
       " ['ComicsClimate', ''],\n",
       " ['nottoowarmplz', ''],\n",
       " ['XWeatherTO', 'Toronto, Ontario'],\n",
       " ['ISHNmag', 'ÜT: 43.019678,-82.439746'],\n",
       " ['XWeatherVan', 'Vancouver, British Columbia'],\n",
       " ['XWeatherTO', 'Toronto, Ontario'],\n",
       " ['GetMyGist', 'Canada'],\n",
       " ['StormchaserUKEU', '(London, U.K) / Europe/ World'],\n",
       " ['StormAssist_', 'Brisbane, Queensland Australia']]"
      ]
     },
     "execution_count": 36,
     "metadata": {},
     "output_type": "execute_result"
    }
   ],
   "source": [
    "tweets = tw.Cursor(api.search, \n",
    "                           q=new_search,\n",
    "                           lang=\"en\",\n",
    "                           since=date_since).items(25)\n",
    "\n",
    "users_locs = [[tweet.user.screen_name, tweet.user.location] for tweet in tweets]\n",
    "users_locs"
   ]
  },
  {
   "cell_type": "code",
   "execution_count": null,
   "metadata": {},
   "outputs": [],
   "source": []
  }
 ],
 "metadata": {
  "kernelspec": {
   "display_name": "Python 3",
   "language": "python",
   "name": "python3"
  },
  "language_info": {
   "codemirror_mode": {
    "name": "ipython",
    "version": 3
   },
   "file_extension": ".py",
   "mimetype": "text/x-python",
   "name": "python",
   "nbconvert_exporter": "python",
   "pygments_lexer": "ipython3",
   "version": "3.7.1"
  }
 },
 "nbformat": 4,
 "nbformat_minor": 2
}
