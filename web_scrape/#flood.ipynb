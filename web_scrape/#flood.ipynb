{
 "cells": [
  {
   "cell_type": "code",
   "execution_count": 1,
   "metadata": {},
   "outputs": [],
   "source": [
    "from splinter import Browser\n",
    "from bs4 import BeautifulSoup"
   ]
  },
  {
   "cell_type": "code",
   "execution_count": 2,
   "metadata": {},
   "outputs": [
    {
     "ename": "WebDriverException",
     "evalue": "Message: 'chromedriver' executable needs to be in PATH. Please see https://sites.google.com/a/chromium.org/chromedriver/home\n",
     "output_type": "error",
     "traceback": [
      "\u001b[1;31m---------------------------------------------------------------------------\u001b[0m",
      "\u001b[1;31mFileNotFoundError\u001b[0m                         Traceback (most recent call last)",
      "\u001b[1;32mC:\\ProgramData\\Anaconda3\\lib\\site-packages\\selenium\\webdriver\\common\\service.py\u001b[0m in \u001b[0;36mstart\u001b[1;34m(self)\u001b[0m\n\u001b[0;32m     75\u001b[0m                                             \u001b[0mstderr\u001b[0m\u001b[1;33m=\u001b[0m\u001b[0mself\u001b[0m\u001b[1;33m.\u001b[0m\u001b[0mlog_file\u001b[0m\u001b[1;33m,\u001b[0m\u001b[1;33m\u001b[0m\u001b[1;33m\u001b[0m\u001b[0m\n\u001b[1;32m---> 76\u001b[1;33m                                             stdin=PIPE)\n\u001b[0m\u001b[0;32m     77\u001b[0m         \u001b[1;32mexcept\u001b[0m \u001b[0mTypeError\u001b[0m\u001b[1;33m:\u001b[0m\u001b[1;33m\u001b[0m\u001b[1;33m\u001b[0m\u001b[0m\n",
      "\u001b[1;32mC:\\ProgramData\\Anaconda3\\lib\\subprocess.py\u001b[0m in \u001b[0;36m__init__\u001b[1;34m(self, args, bufsize, executable, stdin, stdout, stderr, preexec_fn, close_fds, shell, cwd, env, universal_newlines, startupinfo, creationflags, restore_signals, start_new_session, pass_fds, encoding, errors, text)\u001b[0m\n\u001b[0;32m    774\u001b[0m                                 \u001b[0merrread\u001b[0m\u001b[1;33m,\u001b[0m \u001b[0merrwrite\u001b[0m\u001b[1;33m,\u001b[0m\u001b[1;33m\u001b[0m\u001b[1;33m\u001b[0m\u001b[0m\n\u001b[1;32m--> 775\u001b[1;33m                                 restore_signals, start_new_session)\n\u001b[0m\u001b[0;32m    776\u001b[0m         \u001b[1;32mexcept\u001b[0m\u001b[1;33m:\u001b[0m\u001b[1;33m\u001b[0m\u001b[1;33m\u001b[0m\u001b[0m\n",
      "\u001b[1;32mC:\\ProgramData\\Anaconda3\\lib\\subprocess.py\u001b[0m in \u001b[0;36m_execute_child\u001b[1;34m(self, args, executable, preexec_fn, close_fds, pass_fds, cwd, env, startupinfo, creationflags, shell, p2cread, p2cwrite, c2pread, c2pwrite, errread, errwrite, unused_restore_signals, unused_start_new_session)\u001b[0m\n\u001b[0;32m   1177\u001b[0m                                          \u001b[0mos\u001b[0m\u001b[1;33m.\u001b[0m\u001b[0mfspath\u001b[0m\u001b[1;33m(\u001b[0m\u001b[0mcwd\u001b[0m\u001b[1;33m)\u001b[0m \u001b[1;32mif\u001b[0m \u001b[0mcwd\u001b[0m \u001b[1;32mis\u001b[0m \u001b[1;32mnot\u001b[0m \u001b[1;32mNone\u001b[0m \u001b[1;32melse\u001b[0m \u001b[1;32mNone\u001b[0m\u001b[1;33m,\u001b[0m\u001b[1;33m\u001b[0m\u001b[1;33m\u001b[0m\u001b[0m\n\u001b[1;32m-> 1178\u001b[1;33m                                          startupinfo)\n\u001b[0m\u001b[0;32m   1179\u001b[0m             \u001b[1;32mfinally\u001b[0m\u001b[1;33m:\u001b[0m\u001b[1;33m\u001b[0m\u001b[1;33m\u001b[0m\u001b[0m\n",
      "\u001b[1;31mFileNotFoundError\u001b[0m: [WinError 2] The system cannot find the file specified",
      "\nDuring handling of the above exception, another exception occurred:\n",
      "\u001b[1;31mWebDriverException\u001b[0m                        Traceback (most recent call last)",
      "\u001b[1;32m<ipython-input-2-16edf5b48303>\u001b[0m in \u001b[0;36m<module>\u001b[1;34m\u001b[0m\n\u001b[1;32m----> 1\u001b[1;33m \u001b[0mbrowser\u001b[0m \u001b[1;33m=\u001b[0m \u001b[0mBrowser\u001b[0m\u001b[1;33m(\u001b[0m\u001b[1;34m'chrome'\u001b[0m\u001b[1;33m,\u001b[0m \u001b[0mheadless\u001b[0m \u001b[1;33m=\u001b[0m \u001b[1;32mFalse\u001b[0m\u001b[1;33m)\u001b[0m\u001b[1;33m\u001b[0m\u001b[1;33m\u001b[0m\u001b[0m\n\u001b[0m",
      "\u001b[1;32mC:\\ProgramData\\Anaconda3\\lib\\site-packages\\splinter\\browser.py\u001b[0m in \u001b[0;36mBrowser\u001b[1;34m(driver_name, *args, **kwargs)\u001b[0m\n\u001b[0;32m     62\u001b[0m     \u001b[1;32mexcept\u001b[0m \u001b[0mKeyError\u001b[0m\u001b[1;33m:\u001b[0m\u001b[1;33m\u001b[0m\u001b[1;33m\u001b[0m\u001b[0m\n\u001b[0;32m     63\u001b[0m         \u001b[1;32mraise\u001b[0m \u001b[0mDriverNotFoundError\u001b[0m\u001b[1;33m(\u001b[0m\u001b[1;34m\"No driver for %s\"\u001b[0m \u001b[1;33m%\u001b[0m \u001b[0mdriver_name\u001b[0m\u001b[1;33m)\u001b[0m\u001b[1;33m\u001b[0m\u001b[1;33m\u001b[0m\u001b[0m\n\u001b[1;32m---> 64\u001b[1;33m     \u001b[1;32mreturn\u001b[0m \u001b[0mdriver\u001b[0m\u001b[1;33m(\u001b[0m\u001b[1;33m*\u001b[0m\u001b[0margs\u001b[0m\u001b[1;33m,\u001b[0m \u001b[1;33m**\u001b[0m\u001b[0mkwargs\u001b[0m\u001b[1;33m)\u001b[0m\u001b[1;33m\u001b[0m\u001b[1;33m\u001b[0m\u001b[0m\n\u001b[0m",
      "\u001b[1;32mC:\\ProgramData\\Anaconda3\\lib\\site-packages\\splinter\\driver\\webdriver\\chrome.py\u001b[0m in \u001b[0;36m__init__\u001b[1;34m(self, options, user_agent, wait_time, fullscreen, incognito, headless, **kwargs)\u001b[0m\n\u001b[0;32m     41\u001b[0m             \u001b[0moptions\u001b[0m\u001b[1;33m.\u001b[0m\u001b[0madd_argument\u001b[0m\u001b[1;33m(\u001b[0m\u001b[1;34m\"--disable-gpu\"\u001b[0m\u001b[1;33m)\u001b[0m\u001b[1;33m\u001b[0m\u001b[1;33m\u001b[0m\u001b[0m\n\u001b[0;32m     42\u001b[0m \u001b[1;33m\u001b[0m\u001b[0m\n\u001b[1;32m---> 43\u001b[1;33m         \u001b[0mself\u001b[0m\u001b[1;33m.\u001b[0m\u001b[0mdriver\u001b[0m \u001b[1;33m=\u001b[0m \u001b[0mChrome\u001b[0m\u001b[1;33m(\u001b[0m\u001b[0moptions\u001b[0m\u001b[1;33m=\u001b[0m\u001b[0moptions\u001b[0m\u001b[1;33m,\u001b[0m \u001b[1;33m**\u001b[0m\u001b[0mkwargs\u001b[0m\u001b[1;33m)\u001b[0m\u001b[1;33m\u001b[0m\u001b[1;33m\u001b[0m\u001b[0m\n\u001b[0m\u001b[0;32m     44\u001b[0m \u001b[1;33m\u001b[0m\u001b[0m\n\u001b[0;32m     45\u001b[0m         \u001b[0mself\u001b[0m\u001b[1;33m.\u001b[0m\u001b[0melement_class\u001b[0m \u001b[1;33m=\u001b[0m \u001b[0mWebDriverElement\u001b[0m\u001b[1;33m\u001b[0m\u001b[1;33m\u001b[0m\u001b[0m\n",
      "\u001b[1;32mC:\\ProgramData\\Anaconda3\\lib\\site-packages\\selenium\\webdriver\\chrome\\webdriver.py\u001b[0m in \u001b[0;36m__init__\u001b[1;34m(self, executable_path, port, options, service_args, desired_capabilities, service_log_path, chrome_options, keep_alive)\u001b[0m\n\u001b[0;32m     71\u001b[0m             \u001b[0mservice_args\u001b[0m\u001b[1;33m=\u001b[0m\u001b[0mservice_args\u001b[0m\u001b[1;33m,\u001b[0m\u001b[1;33m\u001b[0m\u001b[1;33m\u001b[0m\u001b[0m\n\u001b[0;32m     72\u001b[0m             log_path=service_log_path)\n\u001b[1;32m---> 73\u001b[1;33m         \u001b[0mself\u001b[0m\u001b[1;33m.\u001b[0m\u001b[0mservice\u001b[0m\u001b[1;33m.\u001b[0m\u001b[0mstart\u001b[0m\u001b[1;33m(\u001b[0m\u001b[1;33m)\u001b[0m\u001b[1;33m\u001b[0m\u001b[1;33m\u001b[0m\u001b[0m\n\u001b[0m\u001b[0;32m     74\u001b[0m \u001b[1;33m\u001b[0m\u001b[0m\n\u001b[0;32m     75\u001b[0m         \u001b[1;32mtry\u001b[0m\u001b[1;33m:\u001b[0m\u001b[1;33m\u001b[0m\u001b[1;33m\u001b[0m\u001b[0m\n",
      "\u001b[1;32mC:\\ProgramData\\Anaconda3\\lib\\site-packages\\selenium\\webdriver\\common\\service.py\u001b[0m in \u001b[0;36mstart\u001b[1;34m(self)\u001b[0m\n\u001b[0;32m     81\u001b[0m                 raise WebDriverException(\n\u001b[0;32m     82\u001b[0m                     \"'%s' executable needs to be in PATH. %s\" % (\n\u001b[1;32m---> 83\u001b[1;33m                         os.path.basename(self.path), self.start_error_message)\n\u001b[0m\u001b[0;32m     84\u001b[0m                 )\n\u001b[0;32m     85\u001b[0m             \u001b[1;32melif\u001b[0m \u001b[0merr\u001b[0m\u001b[1;33m.\u001b[0m\u001b[0merrno\u001b[0m \u001b[1;33m==\u001b[0m \u001b[0merrno\u001b[0m\u001b[1;33m.\u001b[0m\u001b[0mEACCES\u001b[0m\u001b[1;33m:\u001b[0m\u001b[1;33m\u001b[0m\u001b[1;33m\u001b[0m\u001b[0m\n",
      "\u001b[1;31mWebDriverException\u001b[0m: Message: 'chromedriver' executable needs to be in PATH. Please see https://sites.google.com/a/chromium.org/chromedriver/home\n"
     ]
    }
   ],
   "source": [
    "browser = Browser('chrome', headless = False)"
   ]
  },
  {
   "cell_type": "code",
   "execution_count": 3,
   "metadata": {},
   "outputs": [
    {
     "ename": "NameError",
     "evalue": "name 'browser' is not defined",
     "output_type": "error",
     "traceback": [
      "\u001b[1;31m---------------------------------------------------------------------------\u001b[0m",
      "\u001b[1;31mNameError\u001b[0m                                 Traceback (most recent call last)",
      "\u001b[1;32m<ipython-input-3-e7082ff4794d>\u001b[0m in \u001b[0;36m<module>\u001b[1;34m\u001b[0m\n\u001b[1;32m----> 1\u001b[1;33m \u001b[0mbrowser\u001b[0m\u001b[1;33m.\u001b[0m\u001b[0mvisit\u001b[0m\u001b[1;33m(\u001b[0m\u001b[1;34m'https://twitter.com/hashtag/flood?lang=en'\u001b[0m\u001b[1;33m)\u001b[0m\u001b[1;33m\u001b[0m\u001b[1;33m\u001b[0m\u001b[0m\n\u001b[0m",
      "\u001b[1;31mNameError\u001b[0m: name 'browser' is not defined"
     ]
    }
   ],
   "source": [
    "browser.visit('https://twitter.com/hashtag/flood?lang=en')"
   ]
  },
  {
   "cell_type": "code",
   "execution_count": 4,
   "metadata": {},
   "outputs": [],
   "source": [
    "soup = BeautifulSoup(browser.html, 'html.parser')"
   ]
  },
  {
   "cell_type": "code",
   "execution_count": 5,
   "metadata": {},
   "outputs": [
    {
     "data": {
      "text/plain": [
       "'Why are we seeing an increase in flooding in England/The North? A few reasons, incl local councils (yes inc you #Doncaster) eager to sell land in known #flood zones for development. We need new homes, but not ones that will flood thanks. Check your local development plans.'"
      ]
     },
     "execution_count": 5,
     "metadata": {},
     "output_type": "execute_result"
    }
   ],
   "source": [
    "soup.find(class_='tweet-text').text"
   ]
  },
  {
   "cell_type": "code",
   "execution_count": 9,
   "metadata": {},
   "outputs": [],
   "source": [
    "tweets = soup.find_all(class_='tweet-text')"
   ]
  },
  {
   "cell_type": "code",
   "execution_count": 12,
   "metadata": {
    "scrolled": true
   },
   "outputs": [
    {
     "name": "stdout",
     "output_type": "stream",
     "text": [
      "Why are we seeing an increase in flooding in England/The North? A few reasons, incl local councils (yes inc you #Doncaster) eager to sell land in known #flood zones for development. We need new homes, but not ones that will flood thanks. Check your local development plans.\n",
      "OTaxi driver bayasbulala bafethu. This man saw that the river was overflowing but still attempted to cross. I'm weak \n",
      "#flood #flooding\n",
      "#RoadSafety #Pietermaritzburg #Tornadopic.twitter.com/c4kSl7eUlH\n",
      "Johnson just blamed people in #flood areas for not listening to advice!  People of #Matlock #Doncaster Think he cares about you? Think again.   The Tories have shafted your services. They’ve been in power for ten years! Don’t trust them!  #channel4news\n",
      "The last few weeks at Eckington Bridge on the River Avon...  #flood #flooding #RiverSevern #Resilience #RiverAvonpic.twitter.com/OU3xF3i6UB\n",
      "There are flood warnings across England. Make sure you know what to do in a flood. \n",
      "\n",
      "Sign up for flood warnings: http://www.gov.uk/sign-up-for-flood-warnings …\n",
      "#Flooding #FloodAware #Flood pic.twitter.com/iq5xSTSpUG\n",
      "It's time to trot out those Killer Facts on Natural #Flood Management again! \n",
      "4.  2 timber bunds u/s of Pickering provided potential flood storage volumes of up to 1,260 m3 for the smaller bund (16.5 m wide, 1.5 m high) and 3,620 m3 for the larger one (57.5 m wide, 1.5 m high). pic.twitter.com/dYT59NgpA0\n",
      "It’s bad out there, high water everywhere...#photography #BobDylan #Venice #Venezia #flood #AcquaAltapic.twitter.com/G4KTKFSstX\n",
      "The things we find when clearing up after a #flood ! pic.twitter.com/Y7FOxlBjDo\n",
      "The Big “I” thanks the U.S. House of Representatives for passing a measure to extend the National Flood Insurance Program (NFIP) through Dec. 20 as part of government funding legislation. #NFIP #FLOOD\n",
      "My priority is our PEOPLE. Today @RAnglians, @LDLightCav and @Proud_Sappers have worked hard with civilian partners to help with #Flood Defences. Proving that PEOPLE stands for more than just those directly in the @BritishArmy #TogetherStronger @EnvAgencypic.twitter.com/roopfp1dwT\n",
      "The #flood in #Pisa passed, with no harm to the city...pic.twitter.com/y1MRSAJeH4\n",
      "300 000 affected by worst floods in 7 years in Borno and Adamawa, Nigeria http://dlvr.it/RJdbFZ  #flood #Nigeria #Borno #Adamawa\n",
      "Excellent video clip and explanation here from Mark Elliott on how #Beavers can help slow the flow and help remove sediment from rivers thus reducing #flood risk downstream in two ways - and all of this whilst improving water quality, sequestering carbon and improving habitats. https://twitter.com/DevonWildlife/status/1195358938902007809 …\n",
      "Ah so is this why #Johnson hasn’t declared a National Emergency?\n",
      "Because then it’d all come out that he’d asked for EU help, & that in 2007 the EU gave Gloucestershire & other #flood-hit areas €160million+ from the Solidarity Fund, etc etc.\n",
      "\n",
      "Too late Johnson, we know.\n",
      "#ThanksEUhttps://twitter.com/pablopereza/status/1194580374321586177 …\n",
      "Garden can’t take anymore rain#flood pic.twitter.com/gcHrRsZzvi\n",
      "With help of our on-ground partner AWARD, @OxfamIndia distributed hygiene & sanitation kits to the #flood affected in Sangli District of Maharashtra.\n",
      "\n",
      "In addition, we trained community members on #WASH and apprised them of our disaster relief work across the country. @ANANDSMITpic.twitter.com/afCvJlGZ8k\n",
      "Winter Floods - A digital oil painting of a solitary tree in a flooded field #tree #flood #paintinghttps://fineartamerica.com/featured/winter-floods-john-edwards.html …\n",
      "The Airing Cupboard Flood Sensor is Off. Last on 01/04/2016 16:15:59. Last off 01/04/2016 16:17:51. #smarthome #smarthome #flood #safetyhttps://smartisant.com/research/sensors/flood.php …\n",
      "In August 1955 the Glen Echo Lake dam burst and surged down the Cady Brook taking out several buildings including Gale's Garage on Route 20 . #charltonmass #history #hurricane #glenecholake #flood pic.twitter.com/rJQtuTOzvH\n",
      "After being wet for so long the plaster started to break off and leave moisture in the home. Remember to winterize your sprinklers before they break and #flood your home. pic.twitter.com/hcqAmWqumX\n"
     ]
    }
   ],
   "source": [
    "for tweet in tweets:\n",
    "    if '#flood'in tweet.text.lower():\n",
    "        print(tweet.text)"
   ]
  },
  {
   "cell_type": "code",
   "execution_count": 13,
   "metadata": {},
   "outputs": [
    {
     "data": {
      "text/plain": [
       "22"
      ]
     },
     "execution_count": 13,
     "metadata": {},
     "output_type": "execute_result"
    }
   ],
   "source": [
    "len(soup.find_all(class_='tweet-text'))"
   ]
  },
  {
   "cell_type": "code",
   "execution_count": null,
   "metadata": {},
   "outputs": [],
   "source": [
    "df = pd.DataFrame(t.__dict__ for t in tweets)\n",
    "df"
   ]
  }
 ],
 "metadata": {
  "kernelspec": {
   "display_name": "Python 3",
   "language": "python",
   "name": "python3"
  },
  "language_info": {
   "codemirror_mode": {
    "name": "ipython",
    "version": 3
   },
   "file_extension": ".py",
   "mimetype": "text/x-python",
   "name": "python",
   "nbconvert_exporter": "python",
   "pygments_lexer": "ipython3",
   "version": "3.7.3"
  }
 },
 "nbformat": 4,
 "nbformat_minor": 2
}
