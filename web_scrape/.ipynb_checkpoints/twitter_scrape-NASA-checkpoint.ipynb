{
 "cells": [
  {
   "cell_type": "code",
   "execution_count": 7,
   "metadata": {},
   "outputs": [],
   "source": [
    "from twitterscraper import query_tweets\n",
    "import datetime as dt\n",
    "import pandas as pd\n",
    "\n",
    "begin_date = dt.date(2019,1,1)\n",
    "end_date = dt.date(2019,11,17)\n",
    "\n",
    "limit = 1000\n",
    "lang = 'english'\n",
    "\n",
    "#a specific user: twitterscraper \"Blockchain from:VitalikButerin\" -o blockchain_tweets.json -l 1000\n"
   ]
  },
  {
   "cell_type": "code",
   "execution_count": 8,
   "metadata": {},
   "outputs": [
    {
     "ename": "SyntaxError",
     "evalue": "invalid syntax (<ipython-input-8-be0cdb69fabf>, line 2)",
     "output_type": "error",
     "traceback": [
      "\u001b[1;36m  File \u001b[1;32m\"<ipython-input-8-be0cdb69fabf>\"\u001b[1;36m, line \u001b[1;32m2\u001b[0m\n\u001b[1;33m    tweets = query_tweets(\"extremeweather\", begindate = begin_date, enddate = end_date, from= user)\u001b[0m\n\u001b[1;37m                                                                                           ^\u001b[0m\n\u001b[1;31mSyntaxError\u001b[0m\u001b[1;31m:\u001b[0m invalid syntax\n"
     ]
    }
   ],
   "source": [
    "tweets = query_tweets(\"extremeweather\", begindate = begin_date, enddate = end_date, lang = lang, limit = limit)\n",
    "#tweets = query_tweets(\"extremeweather\", begindate = begin_date, enddate = end_date, from= user)"
   ]
  },
  {
   "cell_type": "code",
   "execution_count": null,
   "metadata": {},
   "outputs": [],
   "source": [
    "df = pd.DataFrame(t.__dict__ for t in tweets)\n",
    "df"
   ]
  },
  {
   "cell_type": "code",
   "execution_count": null,
   "metadata": {},
   "outputs": [],
   "source": []
  }
 ],
 "metadata": {
  "kernelspec": {
   "display_name": "Python 3",
   "language": "python",
   "name": "python3"
  },
  "language_info": {
   "codemirror_mode": {
    "name": "ipython",
    "version": 3
   },
   "file_extension": ".py",
   "mimetype": "text/x-python",
   "name": "python",
   "nbconvert_exporter": "python",
   "pygments_lexer": "ipython3",
   "version": "3.7.3"
  }
 },
 "nbformat": 4,
 "nbformat_minor": 2
}
