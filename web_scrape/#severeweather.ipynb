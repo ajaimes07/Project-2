{
 "cells": [
  {
   "cell_type": "code",
   "execution_count": 8,
   "metadata": {},
   "outputs": [],
   "source": [
    "from splinter import Browser\n",
    "from bs4 import BeautifulSoup"
   ]
  },
  {
   "cell_type": "code",
   "execution_count": 9,
   "metadata": {},
   "outputs": [],
   "source": [
    "browser = Browser('chrome', headless = False)"
   ]
  },
  {
   "cell_type": "code",
   "execution_count": 10,
   "metadata": {},
   "outputs": [],
   "source": [
    "browser.visit('https://twitter.com/hashtag/severeweather?lang=en')"
   ]
  },
  {
   "cell_type": "code",
   "execution_count": 11,
   "metadata": {},
   "outputs": [],
   "source": [
    "soup = BeautifulSoup(browser.html, 'html.parser')"
   ]
  },
  {
   "cell_type": "code",
   "execution_count": 12,
   "metadata": {},
   "outputs": [
    {
     "data": {
      "text/plain": [
       "'WOW! enormous  #snow amounts, over 180cm of it fresh at  Dolomitenhütte, Osttirol, Austria yesterday afternoon 18th of November.... Photos by Hannes Bundschuh #severeweather #extremeweatherpic.twitter.com/53GwNeVnIh'"
      ]
     },
     "execution_count": 12,
     "metadata": {},
     "output_type": "execute_result"
    }
   ],
   "source": [
    "soup.find(class_='tweet-text').text"
   ]
  },
  {
   "cell_type": "code",
   "execution_count": 18,
   "metadata": {},
   "outputs": [],
   "source": [
    "tweets = soup.find_all(class_='tweet-text')"
   ]
  },
  {
   "cell_type": "code",
   "execution_count": 22,
   "metadata": {
    "scrolled": true
   },
   "outputs": [
    {
     "name": "stdout",
     "output_type": "stream",
     "text": [
      "WOW! enormous  #snow amounts, over 180cm of it fresh at  Dolomitenhütte, Osttirol, Austria yesterday afternoon 18th of November.... Photos by Hannes Bundschuh #severeweather #extremeweatherpic.twitter.com/53GwNeVnIh\n",
      "BRRRRRR!! -40c in krai, Russia this morning! #severeweather #freezinghttps://twitter.com/weathersarov1/status/1196690839403147265 …\n",
      "Who would like to be here??? Very heavy snowfall this evening a short time ago in #Livigno , Italy! Report via Livigno is magic; #severeweather #snowfallpic.twitter.com/iX70S8SSQo\n",
      "Large #avalanche has just happened this morning 17th November in the Italian Alps of Martello! Video by  Christian Gurschler via meteo-Alps #severeweather #extremeweather #snowfallpic.twitter.com/CVBNaFBPAe\n",
      "Severe #hailstorm on the Sunshine Coast, Queensland, Australia yesterday morning 17th November! Golf ball size hail reported... Video by Mummasjourney ig #severeweather #ExtremeWeatherpic.twitter.com/WiLSTEKQks\n",
      "WOW... Very deep snow in Livigno Italy this morning 17th November! Photo by  Livigno is magic thanks; #severeweather #snowfall #extremeweatherpic.twitter.com/JMGe7FEAr6\n",
      "WOW.... Severe #hailstorm in Palmview, Sunshine Coast, Australia this morning 17th November! Video Lisa Thomas #severeweather #extremeweatherpic.twitter.com/9I0LE31e3A\n",
      "WOW.... Severe #hailstorm on the Gold Coast, Australia an hour ago this morning 17th November! Report by Stuvoice Ig #severeweather #extremeweather #hailpic.twitter.com/kcDy3wpzB2\n",
      "3/ The #GreenNewDeal should also anticipate an increase of people who will acquire chronic illnesses & injuries from #SevereWeather & therefore increase the number of people accessing medical services, as well as the number of people permanently disabled by a #SevereWeatherEvent\n",
      "We have nothing’: Somalia floods raise spectre of famine #SevereWeather https://www.theguardian.com/world/2019/nov/19/we-have-nothing-somalia-floods-raise-spectre-of-famine …\n",
      "Boosting wind farmers, global winds reverse decades of slowing and pick up speed #SevereWeather https://www.sciencedaily.com/releases/2019/11/191119075300.htm …\n",
      "Which weather do you like tracking the most? #severeweather #winterweatherpic.twitter.com/cYsBEIE3kW\n",
      "Johnson's onanism gag is no surprise: his career is based on pleasing himself - John Crace #SevereWeather https://www.theguardian.com/politics/2019/nov/13/boris-johnson-onanism-gag-speech-flooding-yorkshire …\n",
      "Working on the pool deck but had to stop due to #hailstorm in Upper Coomera. #severeweather #GoldCoast #Queenslandpic.twitter.com/Xh9ls6gWL7\n",
      "Autumn leaves and snowfall in Ifrane, Morocco recently 2 days ago! Thanks to Tabitte Abdelhak #severeweather #snow pic.twitter.com/8YG0LoNuSS\n",
      "Extremely deep fresh snow depths at Madonna Di Campiglio, Dolomites, #Italy last night 15th November. Photos by  Wiliam Bombarda; #severeweather #ExtremeWeather #snowfallpic.twitter.com/8jxlBdbfNo\n",
      "The town #Utqiaġvik in #Alaska, USA saw the sun set yesterday Monday afternoon 18th November and it will now not rise again until the 23rd of January 2020. That's now 67 straight days of total darkness! #severeweather #WinterForecastpic.twitter.com/EqIH9W0Sjx\n",
      "US Officials Granting $29 Million for Coastal Protection: http://atty.es/d5UK30pUEUF  #NaturalDisasters #SevereWeather pic.twitter.com/vqc920dcPY\n",
      "Record-breaking #hailstone in Colorado. #SevereWeather\n",
      "http://ow.ly/tbJT50xem4Y pic.twitter.com/ThdZkcPBFq\n",
      "Mr. Forsthoefel and Mr. Lewis came to @MapleDaleElem today to present to our second graders about what they take into consideration when calling off school due to inclement weather. #severeweather #pblpic.twitter.com/8x58O1gS8G\n"
     ]
    }
   ],
   "source": [
    "for tweet in tweets:\n",
    "    if '#severeweather'in tweet.text.lower():\n",
    "        print(tweet.text)"
   ]
  },
  {
   "cell_type": "code",
   "execution_count": 23,
   "metadata": {},
   "outputs": [
    {
     "data": {
      "text/plain": [
       "21"
      ]
     },
     "execution_count": 23,
     "metadata": {},
     "output_type": "execute_result"
    }
   ],
   "source": [
    "len(soup.find_all(class_='tweet-text'))"
   ]
  },
  {
   "cell_type": "code",
   "execution_count": null,
   "metadata": {},
   "outputs": [],
   "source": []
  }
 ],
 "metadata": {
  "kernelspec": {
   "display_name": "Python 3",
   "language": "python",
   "name": "python3"
  },
  "language_info": {
   "codemirror_mode": {
    "name": "ipython",
    "version": 3
   },
   "file_extension": ".py",
   "mimetype": "text/x-python",
   "name": "python",
   "nbconvert_exporter": "python",
   "pygments_lexer": "ipython3",
   "version": "3.7.1"
  }
 },
 "nbformat": 4,
 "nbformat_minor": 2
}
